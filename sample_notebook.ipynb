
print('Hello, this is a new line!')